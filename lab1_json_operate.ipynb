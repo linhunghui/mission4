{
 "cells": [
  {
   "cell_type": "code",
   "execution_count": 2,
   "metadata": {},
   "outputs": [
    {
     "name": "stdout",
     "output_type": "stream",
     "text": [
      "{'array': [1, 2, 3, 4],\n",
      " 'number': 123,\n",
      " 'object': {'ggboy': 123, 'ggtest': 'gg1'},\n",
      " 'string': 'gggg'}\n"
     ]
    }
   ],
   "source": [
    "#引用套件\n",
    "import os\n",
    "import json\n",
    "from pprint import pprint\n",
    "\n",
    "#新增一個json\n",
    "jsonf1={\"number\":123,\"string\":\"gggg\",\"array\":[1,2,3,4],\"object\":{\"ggboy\":123,\"ggtest\":\"gg1\"}}\n",
    "\n",
    "#印出jsonf1內容\n",
    "pprint(jsonf1)"
   ]
  },
  {
   "cell_type": "code",
   "execution_count": 3,
   "metadata": {},
   "outputs": [],
   "source": [
    "#開啟一個新檔案jsontest\n",
    "openf = open('./jsontest','w')\n",
    "\n",
    "#把jsonf1轉乘json格式其type為string\n",
    "jsonf1=json.dumps(jsonf1)\n",
    "\n",
    "#將jsonf1寫入jsontest中\n",
    "openf.write(jsonf1)\n",
    "\n",
    "#將檔案jsontest關閉\n",
    "openf.close()"
   ]
  },
  {
   "cell_type": "code",
   "execution_count": 7,
   "metadata": {},
   "outputs": [
    {
     "name": "stdout",
     "output_type": "stream",
     "text": [
      "{'number': 654321, 'string': 'ggboyggagain', 'array': [6, 5, 4, 3, 2, 1], 'object': {'ggboy': 321, 'ggtest': 'gg2'}}\n"
     ]
    }
   ],
   "source": [
    "#開啟jsontest\n",
    "openj = open('./jsontest','r')\n",
    "\n",
    "#將jsontest的內容存入到jsonf2變數中\n",
    "jsonf2=json.load(openj)\n",
    "\n",
    "#將jsontest關閉\n",
    "openj.close()\n",
    "\n",
    "#重新指定jsonf2中變數number中的值\n",
    "jsonf2[\"number\"]=654321\n",
    "\n",
    "#重新指定jsonf2中變數string中的值\n",
    "jsonf2[\"string\"]=\"ggboyggagain\"\n",
    "\n",
    "#重新指定jsonf2中變數array中的值\n",
    "jsonf2[\"array\"]=[6,5,4,3,2,1]\n",
    "\n",
    "#重新指定jsonf2中變數object中的值\n",
    "jsonf2[\"object\"]={\"ggboy\":321,\"ggtest\":\"gg2\"}\n",
    "\n",
    "#印出來看看\n",
    "print(jsonf2)"
   ]
  },
  {
   "cell_type": "code",
   "execution_count": 9,
   "metadata": {},
   "outputs": [],
   "source": [
    "#將jsonf2的內容轉換成json格式存入jsonf3\n",
    "jsonf3=json.dumps(jsonf2)\n",
    "\n",
    "#開啟一個檔案jsontest2\n",
    "openf1=open('./jsontest2','w')\n",
    "\n",
    "#將jsonf3寫入jsontest2\n",
    "openf1.write(jsonf3)\n",
    "\n",
    "#將檔案關閉\n",
    "openf1.close()"
   ]
  },
  {
   "cell_type": "code",
   "execution_count": null,
   "metadata": {},
   "outputs": [],
   "source": []
  }
 ],
 "metadata": {
  "kernelspec": {
   "display_name": "Python 3",
   "language": "python",
   "name": "python3"
  },
  "language_info": {
   "codemirror_mode": {
    "name": "ipython",
    "version": 3
   },
   "file_extension": ".py",
   "mimetype": "text/x-python",
   "name": "python",
   "nbconvert_exporter": "python",
   "pygments_lexer": "ipython3",
   "version": "3.7.2"
  }
 },
 "nbformat": 4,
 "nbformat_minor": 2
}
